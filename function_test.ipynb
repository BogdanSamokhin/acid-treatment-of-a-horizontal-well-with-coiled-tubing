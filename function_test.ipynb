{
 "cells": [
  {
   "cell_type": "code",
   "execution_count": 1,
   "metadata": {},
   "outputs": [],
   "source": [
    "import math"
   ]
  },
  {
   "cell_type": "code",
   "execution_count": null,
   "metadata": {},
   "outputs": [],
   "source": [
    "def first_diff_eq(H: float,#высота скважины ГС(определение при наклонной ГС?)(данные о скважине)\n",
    "                  L: float,#длина ГС(данные о скважине)(обезразмеривание)\n",
    "                  segments: list,#список с длинами сегметов для кислотной обработки(данные о скважине)\n",
    "                  C_segments: list,#список с массовыми концетрациями кислоты для каждого сегмента(начальное условие)\n",
    "                  q_w: float,#заданный расход на скважине(начальное условие)\n",
    "                  r_w0: float,#начальный радиус скважины(начальное условие)\n",
    "                  D_nkt: float,#внешний диаметр нкт(начальное условие)\n",
    "                  t_star: float,#заднное в методичке время обезразмериванния(начальное условие)(обезразмеривание)\n",
    "                  P_k: float,#давление задающееся для усреднения стр 21(начальное условие)\n",
    "                  V: float,#reverse speed для нкт(начальное условие)\n",
    "                  k: float,#проницаемость (пласта или трубы? изменяется с временем k(t)?)\n",
    "                  m: float,#коэффециент пористости\n",
    "                  P_ust: float,#устьевое давление скважины (задается как const?)\n",
    "                  alpha: float,#угол отклонения ствола ГС от вертикали\n",
    "                  p: float,#плотность кислоты или водяного раствора закачиваемого в скважину\n",
    "                  g: float,#ускорение свободного падения\n",
    "                  mu: float, #динамическая вязкость жидкости,\n",
    "                  d_nkt: float, #внутренний диаметр нкт\n",
    "                  xi: float, #коэффициент пъезопроводности продуктивного пласта 𝑘/𝜇(𝑚𝛽 + 𝛽𝑐)\n",
    "                  ) -> list:\n",
    "    list_of_greed = []\n",
    "    list_of_t = []\n",
    "    u_star = ((4 * q_w) / (math.pi * pow(D_nkt,2)))#начальное условие для скорости\n",
    "    t_star = L / u_star\n",
    "    P_star = P_k #начальное условие для давления\n",
    "\n",
    "    u_grid = [[0] * list_of_greed.__len__() for i in range(list_of_t.__len__())]#сетка для скорости жидкости\n",
    "    P_grid = [[0] * list_of_greed.__len__() for i in range(list_of_t.__len__())]#сетка для давления\n",
    "    ksi = [0] * list_of_t.__len__()#сетка для велечины подвижной границы\n",
    "    r_w = [0] * list_of_t.__len__()#сетка для радиуса скважины\n",
    "    v_L = [[0] * list_of_greed.__len__() for i in range(list_of_t.__len__())]#сетка для скорости утечек жидкости через боковую поверхность ГС\n",
    "    R_grid = [[0] * list_of_greed.__len__() for i in range(list_of_t.__len__())]#сетка для R\n",
    "    C_grid = [[0] * list_of_greed.__len__() for i in range(list_of_t.__len__())]#сетка для массовыми концетрациями кислоты для каждого сегмента\n",
    "\n",
    "    ksi[0] = 1\n",
    "    r_w[0] = r_w0\n",
    "\n",
    "    for i in range(list_of_greed.__len__()):\n",
    "        u_grid[0][i] = 0 \n",
    "        P_grid[0][i] = 1\n",
    "        R_grid[0][i] = r_w0\n",
    "\n",
    "    P_grid[0][0] = (P_ust + p * g * H - ((renaults_coeff(q_w,p,2 * r_w[0],mu) * 8 * H * p * pow(q_w,2)) / (pow(math.pi,2) * pow(d_nkt,5)))) / P_star\n",
    "    for i in range(list_of_t.__len__()):\n",
    "        u_grid[i][0] = 1 #проблема накладывание нач и гран условий!!\n",
    "        u_grid[i][-1] = 0\n",
    "        # P_grid[i][0] = (P_ust + p * g * H - ((renaults_coeff(q_w,p,2 * r_w[i],mu) * 8 * H * p * pow(q_w,2)) / (pow(math.pi,2) * pow(d_nkt,5)))) / P_star\n",
    "    for i in range(list_of_greed.__len__()):\n",
    "        v_L[0][i] = (k / (m * mu)) * (P_star / (u_star * L)) * (P_grid[0][i] - 1) / (R_grid[0][i] - r_w[0] + r_w[0] * math.log(math.sqrt(pow(r_w[0],2) + ((4 * xi) / pow(L,2)) * t_star * list_of_t[0]) / R_grid[0][i]))"
   ]
  },
  {
   "cell_type": "code",
   "execution_count": null,
   "metadata": {},
   "outputs": [],
   "source": [
    "def renaults_coeff(Q: float,#расход жидкости\n",
    "                   p: float,#плотность жидкости\n",
    "                   D_w: float,#внутренний диаметр трубопровода\n",
    "                   mu: float) -> float: #динамическая вязкость жидкости \n",
    "    ok = (4 * Q * p) / (math.pi * D_w * mu) \n",
    "    if ok < 2300:\n",
    "        return (64. / ok)\n",
    "    elif ok > 2800 and ok < 1e5:\n",
    "        return (0.3164 / pow(ok,1./4))\n",
    "    else:\n",
    "        ??????????????????????"
   ]
  }
 ],
 "metadata": {
  "kernelspec": {
   "display_name": "Python 3",
   "language": "python",
   "name": "python3"
  },
  "language_info": {
   "codemirror_mode": {
    "name": "ipython",
    "version": 3
   },
   "file_extension": ".py",
   "mimetype": "text/x-python",
   "name": "python",
   "nbconvert_exporter": "python",
   "pygments_lexer": "ipython3",
   "version": "3.10.1"
  },
  "orig_nbformat": 4
 },
 "nbformat": 4,
 "nbformat_minor": 2
}
